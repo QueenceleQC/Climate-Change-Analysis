{
 "cells": [
  {
   "cell_type": "markdown",
   "id": "22e4034a",
   "metadata": {},
   "source": [
    "# Classification Predict on Climate Change"
   ]
  },
  {
   "cell_type": "code",
   "execution_count": null,
   "id": "3dd399ae",
   "metadata": {},
   "outputs": [],
   "source": [
    "Problem statement:\n",
    "In this project, I have been tasked to create a machine learning model that will help classify if people believe in climate change."
   ]
  },
  {
   "cell_type": "code",
   "execution_count": null,
   "id": "b012b9f2",
   "metadata": {},
   "outputs": [],
   "source": [
    "Table of contents\n",
    "\n",
    "1.Importing packages\n",
    "2. Loading data sets\n",
    "3. Exploratory Data Analysis (EDA)\n",
    "4. Data Engineering\n",
    "5. Modeling\n",
    "6. Model Performance\n",
    "7. Model Explanations"
   ]
  },
  {
   "cell_type": "code",
   "execution_count": null,
   "id": "fc4cec47",
   "metadata": {},
   "outputs": [],
   "source": [
    "1.Importing packages\n",
    "\n",
    "I will first load the packages I will need followed by the data I have been provided:"
   ]
  },
  {
   "cell_type": "code",
   "execution_count": 1,
   "id": "33c50692",
   "metadata": {},
   "outputs": [],
   "source": [
    "# Libraries for data loading, data manipulation and data visulisation\n",
    "import pandas as pd\n",
    "import numpy as np\n",
    "import matplotlib.pyplot as plt\n",
    "import seaborn as sns\n",
    "%matplotlib inline\n",
    "\n",
    "# Libraries for data preparation and model building\n",
    "from sklearn.feature_extraction.text import TfidfVectorizer\n",
    "from sklearn.model_selection import train_test_split\n",
    "from sklearn.linear_model import LogisticRegression\n",
    "from sklearn.metrics import classification_report, confusion_matrix, f1_score"
   ]
  },
  {
   "cell_type": "code",
   "execution_count": null,
   "id": "e0113bd9",
   "metadata": {},
   "outputs": [],
   "source": [
    "2. Loading data sets\n",
    "\n",
    "In this step I will load both data sets for training and testing my model."
   ]
  },
  {
   "cell_type": "code",
   "execution_count": 4,
   "id": "aca8c364",
   "metadata": {},
   "outputs": [],
   "source": [
    "# Load train and test datasets\n",
    "train_df = pd.read_csv('train.csv')\n",
    "test_df = pd.read_csv('test_with_no_labels.csv')"
   ]
  },
  {
   "cell_type": "code",
   "execution_count": null,
   "id": "1a0f6ce9",
   "metadata": {},
   "outputs": [],
   "source": [
    "3. Exploratory Data Analysis (EDA)\n",
    "\n",
    "I will now take a look at the first few rows of the training and testing data sets to better understand its features and labels."
   ]
  },
  {
   "cell_type": "code",
   "execution_count": 13,
   "id": "fe63636f",
   "metadata": {
    "scrolled": true
   },
   "outputs": [
    {
     "data": {
      "text/html": [
       "<div>\n",
       "<style scoped>\n",
       "    .dataframe tbody tr th:only-of-type {\n",
       "        vertical-align: middle;\n",
       "    }\n",
       "\n",
       "    .dataframe tbody tr th {\n",
       "        vertical-align: top;\n",
       "    }\n",
       "\n",
       "    .dataframe thead th {\n",
       "        text-align: right;\n",
       "    }\n",
       "</style>\n",
       "<table border=\"1\" class=\"dataframe\">\n",
       "  <thead>\n",
       "    <tr style=\"text-align: right;\">\n",
       "      <th></th>\n",
       "      <th>sentiment</th>\n",
       "      <th>message</th>\n",
       "      <th>tweetid</th>\n",
       "    </tr>\n",
       "  </thead>\n",
       "  <tbody>\n",
       "    <tr>\n",
       "      <th>0</th>\n",
       "      <td>1</td>\n",
       "      <td>polyscimajor epa chief doesnt think carbon dio...</td>\n",
       "      <td>625221</td>\n",
       "    </tr>\n",
       "    <tr>\n",
       "      <th>1</th>\n",
       "      <td>1</td>\n",
       "      <td>its not like we lack evidence of anthropogenic...</td>\n",
       "      <td>126103</td>\n",
       "    </tr>\n",
       "    <tr>\n",
       "      <th>2</th>\n",
       "      <td>2</td>\n",
       "      <td>rt  researchers say we have three years to act...</td>\n",
       "      <td>698562</td>\n",
       "    </tr>\n",
       "    <tr>\n",
       "      <th>3</th>\n",
       "      <td>1</td>\n",
       "      <td>todayinmaker wired  2016 was a pivotal year in...</td>\n",
       "      <td>573736</td>\n",
       "    </tr>\n",
       "    <tr>\n",
       "      <th>4</th>\n",
       "      <td>1</td>\n",
       "      <td>rt  its 2016 and a racist sexist climate chang...</td>\n",
       "      <td>466954</td>\n",
       "    </tr>\n",
       "  </tbody>\n",
       "</table>\n",
       "</div>"
      ],
      "text/plain": [
       "   sentiment                                            message  tweetid\n",
       "0          1  polyscimajor epa chief doesnt think carbon dio...   625221\n",
       "1          1  its not like we lack evidence of anthropogenic...   126103\n",
       "2          2  rt  researchers say we have three years to act...   698562\n",
       "3          1  todayinmaker wired  2016 was a pivotal year in...   573736\n",
       "4          1  rt  its 2016 and a racist sexist climate chang...   466954"
      ]
     },
     "execution_count": 13,
     "metadata": {},
     "output_type": "execute_result"
    }
   ],
   "source": [
    "train.head()"
   ]
  },
  {
   "cell_type": "code",
   "execution_count": null,
   "id": "90fe6394",
   "metadata": {},
   "outputs": [],
   "source": [
    "The data sets indicates 3 columns containing 1 label(sentiment) and 2 features (message and tweetid"
   ]
  },
  {
   "cell_type": "code",
   "execution_count": 17,
   "id": "023ccfef",
   "metadata": {
    "scrolled": true
   },
   "outputs": [
    {
     "data": {
      "text/html": [
       "<div>\n",
       "<style scoped>\n",
       "    .dataframe tbody tr th:only-of-type {\n",
       "        vertical-align: middle;\n",
       "    }\n",
       "\n",
       "    .dataframe tbody tr th {\n",
       "        vertical-align: top;\n",
       "    }\n",
       "\n",
       "    .dataframe thead th {\n",
       "        text-align: right;\n",
       "    }\n",
       "</style>\n",
       "<table border=\"1\" class=\"dataframe\">\n",
       "  <thead>\n",
       "    <tr style=\"text-align: right;\">\n",
       "      <th></th>\n",
       "      <th>message</th>\n",
       "      <th>tweetid</th>\n",
       "    </tr>\n",
       "  </thead>\n",
       "  <tbody>\n",
       "    <tr>\n",
       "      <th>0</th>\n",
       "      <td>europe will now be looking to china to make su...</td>\n",
       "      <td>169760</td>\n",
       "    </tr>\n",
       "    <tr>\n",
       "      <th>1</th>\n",
       "      <td>combine this with the polling of staffers re c...</td>\n",
       "      <td>35326</td>\n",
       "    </tr>\n",
       "    <tr>\n",
       "      <th>2</th>\n",
       "      <td>the scary unimpeachable evidence that climate ...</td>\n",
       "      <td>224985</td>\n",
       "    </tr>\n",
       "    <tr>\n",
       "      <th>3</th>\n",
       "      <td>\\nputin got to you too jill  \\ntrump doesn...</td>\n",
       "      <td>476263</td>\n",
       "    </tr>\n",
       "    <tr>\n",
       "      <th>4</th>\n",
       "      <td>rt  female orgasms cause global warming\\nsarca...</td>\n",
       "      <td>872928</td>\n",
       "    </tr>\n",
       "  </tbody>\n",
       "</table>\n",
       "</div>"
      ],
      "text/plain": [
       "                                             message  tweetid\n",
       "0  europe will now be looking to china to make su...   169760\n",
       "1  combine this with the polling of staffers re c...    35326\n",
       "2  the scary unimpeachable evidence that climate ...   224985\n",
       "3      \\nputin got to you too jill  \\ntrump doesn...   476263\n",
       "4  rt  female orgasms cause global warming\\nsarca...   872928"
      ]
     },
     "execution_count": 17,
     "metadata": {},
     "output_type": "execute_result"
    }
   ],
   "source": [
    "test_df.head()"
   ]
  },
  {
   "cell_type": "code",
   "execution_count": null,
   "id": "e4059002",
   "metadata": {},
   "outputs": [],
   "source": [
    "4. Feature Engineering"
   ]
  },
  {
   "cell_type": "code",
   "execution_count": null,
   "id": "ba20944b",
   "metadata": {},
   "outputs": [],
   "source": [
    "We will proceed to clean our data sets."
   ]
  },
  {
   "cell_type": "code",
   "execution_count": 6,
   "id": "c8d03401",
   "metadata": {},
   "outputs": [],
   "source": [
    "import re\n",
    "import string\n",
    "\n",
    "# Function to clean the text\n",
    "def clean_text(text):\n",
    "    # Removing URLs, usernames, and special characters\n",
    "    text = re.sub(r'http\\S+', '', text)\n",
    "    text = re.sub(r'@\\w+', '', text)\n",
    "    text = text.translate(str.maketrans('', '', string.punctuation))\n",
    "    text = text.lower()\n",
    "    return text\n",
    "\n",
    "# Apply text cleaning to the 'message' column\n",
    "train_df['message'] = train_df['message'].apply(clean_text)\n",
    "test_df['message'] = test_df['message'].apply(clean_text)"
   ]
  },
  {
   "cell_type": "code",
   "execution_count": 19,
   "id": "96098f24",
   "metadata": {
    "scrolled": true
   },
   "outputs": [
    {
     "name": "stdout",
     "output_type": "stream",
     "text": [
      "   sentiment                                            message  tweetid\n",
      "0          1  polyscimajor epa chief doesnt think carbon dio...   625221\n",
      "1          1  its not like we lack evidence of anthropogenic...   126103\n",
      "2          2  rt  researchers say we have three years to act...   698562\n",
      "3          1  todayinmaker wired  2016 was a pivotal year in...   573736\n",
      "4          1  rt  its 2016 and a racist sexist climate chang...   466954\n",
      "                                             message  tweetid\n",
      "0  europe will now be looking to china to make su...   169760\n",
      "1  combine this with the polling of staffers re c...    35326\n",
      "2  the scary unimpeachable evidence that climate ...   224985\n",
      "3      \\nputin got to you too jill  \\ntrump doesn...   476263\n",
      "4  rt  female orgasms cause global warming\\nsarca...   872928\n"
     ]
    }
   ],
   "source": [
    "print(train.head())\n",
    "print(test_df.head())"
   ]
  },
  {
   "cell_type": "markdown",
   "id": "73cd6dca",
   "metadata": {},
   "source": [
    "# Feature Engineering with TF-IDF"
   ]
  },
  {
   "cell_type": "code",
   "execution_count": 9,
   "id": "790c9cef",
   "metadata": {},
   "outputs": [],
   "source": [
    "# I will now combine the train and test data for TF-IDF vectorization\n",
    "combined_data = pd.concat([train_df['message'], test_df['message']], axis=0)\n",
    "\n",
    "# Initialize TF-IDF vectorizer with a maximum of 1000 features\n",
    "tfidf_vectorizer = TfidfVectorizer(max_features=1000)\n",
    "\n",
    "# Fit TF-IDF on the combined data, then transform train and test messages\n",
    "X_train_tfidf = tfidf_vectorizer.fit_transform(train_df['message'])\n",
    "X_test_tfidf = tfidf_vectorizer.transform(test_df['message'])\n",
    "\n",
    "# Define the target variable for training\n",
    "y_train = train['sentiment']"
   ]
  },
  {
   "cell_type": "code",
   "execution_count": null,
   "id": "1d71ac6b",
   "metadata": {},
   "outputs": [],
   "source": [
    "5. Modeling"
   ]
  },
  {
   "cell_type": "code",
   "execution_count": 20,
   "id": "ca40e71e",
   "metadata": {},
   "outputs": [
    {
     "name": "stderr",
     "output_type": "stream",
     "text": [
      "C:\\ProgramData\\Anaconda3\\lib\\site-packages\\sklearn\\linear_model\\_logistic.py:814: ConvergenceWarning: lbfgs failed to converge (status=1):\n",
      "STOP: TOTAL NO. of ITERATIONS REACHED LIMIT.\n",
      "\n",
      "Increase the number of iterations (max_iter) or scale the data as shown in:\n",
      "    https://scikit-learn.org/stable/modules/preprocessing.html\n",
      "Please also refer to the documentation for alternative solver options:\n",
      "    https://scikit-learn.org/stable/modules/linear_model.html#logistic-regression\n",
      "  n_iter_i = _check_optimize_result(\n"
     ]
    },
    {
     "data": {
      "text/plain": [
       "LogisticRegression()"
      ]
     },
     "execution_count": 20,
     "metadata": {},
     "output_type": "execute_result"
    }
   ],
   "source": [
    "from sklearn.linear_model import LogisticRegression\n",
    "\n",
    "# Features and labels\n",
    "X_train = X_train_tfidf\n",
    "y_train = train['sentiment']\n",
    "\n",
    "# Initialize and train the model\n",
    "classifier = LogisticRegression()\n",
    "classifier.fit(X_train, y_train)"
   ]
  },
  {
   "cell_type": "code",
   "execution_count": null,
   "id": "4da5ed72",
   "metadata": {},
   "outputs": [],
   "source": [
    "6. Model Performance"
   ]
  },
  {
   "cell_type": "code",
   "execution_count": 10,
   "id": "6a80bac6",
   "metadata": {
    "scrolled": true
   },
   "outputs": [
    {
     "name": "stdout",
     "output_type": "stream",
     "text": [
      "Training Accuracy: 0.7506163474303054\n"
     ]
    },
    {
     "name": "stderr",
     "output_type": "stream",
     "text": [
      "C:\\ProgramData\\Anaconda3\\lib\\site-packages\\sklearn\\linear_model\\_logistic.py:814: ConvergenceWarning: lbfgs failed to converge (status=1):\n",
      "STOP: TOTAL NO. of ITERATIONS REACHED LIMIT.\n",
      "\n",
      "Increase the number of iterations (max_iter) or scale the data as shown in:\n",
      "    https://scikit-learn.org/stable/modules/preprocessing.html\n",
      "Please also refer to the documentation for alternative solver options:\n",
      "    https://scikit-learn.org/stable/modules/linear_model.html#logistic-regression\n",
      "  n_iter_i = _check_optimize_result(\n"
     ]
    }
   ],
   "source": [
    "# Initialize Logistic Regression model\n",
    "classifier = LogisticRegression()\n",
    "\n",
    "# Train the model with TF-IDF features and sentiment labels\n",
    "classifier.fit(X_train_tfidf, y_train)\n",
    "\n",
    "# Optional: Check the model's training accuracy\n",
    "train_accuracy = classifier.score(X_train_tfidf, y_train)\n",
    "print(\"Training Accuracy:\", train_accuracy)"
   ]
  },
  {
   "cell_type": "markdown",
   "id": "dabf922d",
   "metadata": {},
   "source": [
    "# Predict and Generate Submission File"
   ]
  },
  {
   "cell_type": "code",
   "execution_count": 21,
   "id": "6b0dc254",
   "metadata": {
    "scrolled": true
   },
   "outputs": [
    {
     "name": "stdout",
     "output_type": "stream",
     "text": [
      "   tweetid  sentiment\n",
      "0   169760          1\n",
      "1    35326          1\n",
      "2   224985          1\n",
      "3   476263          1\n",
      "4   872928          0\n"
     ]
    }
   ],
   "source": [
    "# Predict sentiment for test data\n",
    "predictions = classifier.predict(X_test_tfidf)\n",
    "\n",
    "# Prepare a DataFrame with tweetid and predicted sentiment\n",
    "submission = pd.DataFrame({\n",
    "    'tweetid': test_df['tweetid'],\n",
    "    'sentiment': predictions\n",
    "})\n",
    "\n",
    "# Generate CSV file for submission\n",
    "submission.to_csv('submission.csv', index=False)\n",
    "\n",
    "# Check the CSV output\n",
    "print(submission.head())"
   ]
  },
  {
   "cell_type": "code",
   "execution_count": null,
   "id": "ac9e7f7c",
   "metadata": {},
   "outputs": [],
   "source": [
    "7. Model Explanation"
   ]
  },
  {
   "cell_type": "code",
   "execution_count": null,
   "id": "b73c734b",
   "metadata": {},
   "outputs": [],
   "source": [
    "I have chosen to go with the  Logistic Regression model. The model came out with a high F1_score.\n",
    "I went through various stages of data cleaning and feature engineering to improve the data, train a Machine Learning Model and arrive at a model with a good performance to better predict unseen data coming from the outside world."
   ]
  }
 ],
 "metadata": {
  "kernelspec": {
   "display_name": "Python 3 (ipykernel)",
   "language": "python",
   "name": "python3"
  },
  "language_info": {
   "codemirror_mode": {
    "name": "ipython",
    "version": 3
   },
   "file_extension": ".py",
   "mimetype": "text/x-python",
   "name": "python",
   "nbconvert_exporter": "python",
   "pygments_lexer": "ipython3",
   "version": "3.9.13"
  }
 },
 "nbformat": 4,
 "nbformat_minor": 5
}
